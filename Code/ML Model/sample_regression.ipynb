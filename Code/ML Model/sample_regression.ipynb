{
 "cells": [
  {
   "cell_type": "code",
   "execution_count": 1,
   "metadata": {},
   "outputs": [
    {
     "data": {
      "text/html": [
       "<div>\n",
       "<style scoped>\n",
       "    .dataframe tbody tr th:only-of-type {\n",
       "        vertical-align: middle;\n",
       "    }\n",
       "\n",
       "    .dataframe tbody tr th {\n",
       "        vertical-align: top;\n",
       "    }\n",
       "\n",
       "    .dataframe thead th {\n",
       "        text-align: right;\n",
       "    }\n",
       "</style>\n",
       "<table border=\"1\" class=\"dataframe\">\n",
       "  <thead>\n",
       "    <tr style=\"text-align: right;\">\n",
       "      <th></th>\n",
       "      <th>STUDENT REG_NO</th>\n",
       "      <th>STUDENT NAME</th>\n",
       "      <th>QEM_MCQ</th>\n",
       "      <th>EM_MCQ_PER</th>\n",
       "      <th>QH_MCQ</th>\n",
       "      <th>H_MCQ_PER</th>\n",
       "      <th>QEM_PS</th>\n",
       "      <th>EM_PS_PER</th>\n",
       "      <th>QH_PS</th>\n",
       "      <th>H_PS_PER</th>\n",
       "      <th>PACKAGE</th>\n",
       "    </tr>\n",
       "  </thead>\n",
       "  <tbody>\n",
       "    <tr>\n",
       "      <th>0</th>\n",
       "      <td>714017104001</td>\n",
       "      <td>Ahalya S P</td>\n",
       "      <td>321</td>\n",
       "      <td>75</td>\n",
       "      <td>162</td>\n",
       "      <td>61</td>\n",
       "      <td>22</td>\n",
       "      <td>63</td>\n",
       "      <td>11</td>\n",
       "      <td>45</td>\n",
       "      <td>300000</td>\n",
       "    </tr>\n",
       "    <tr>\n",
       "      <th>1</th>\n",
       "      <td>714017104002</td>\n",
       "      <td>Walley</td>\n",
       "      <td>370</td>\n",
       "      <td>72</td>\n",
       "      <td>180</td>\n",
       "      <td>63</td>\n",
       "      <td>25</td>\n",
       "      <td>70</td>\n",
       "      <td>12</td>\n",
       "      <td>30</td>\n",
       "      <td>300000</td>\n",
       "    </tr>\n",
       "    <tr>\n",
       "      <th>2</th>\n",
       "      <td>714017104003</td>\n",
       "      <td>Eva</td>\n",
       "      <td>461</td>\n",
       "      <td>73</td>\n",
       "      <td>223</td>\n",
       "      <td>67</td>\n",
       "      <td>30</td>\n",
       "      <td>75</td>\n",
       "      <td>13</td>\n",
       "      <td>35</td>\n",
       "      <td>300000</td>\n",
       "    </tr>\n",
       "    <tr>\n",
       "      <th>3</th>\n",
       "      <td>714017104004</td>\n",
       "      <td>Priya</td>\n",
       "      <td>538</td>\n",
       "      <td>82</td>\n",
       "      <td>262</td>\n",
       "      <td>64</td>\n",
       "      <td>37</td>\n",
       "      <td>80</td>\n",
       "      <td>14</td>\n",
       "      <td>40</td>\n",
       "      <td>300000</td>\n",
       "    </tr>\n",
       "    <tr>\n",
       "      <th>4</th>\n",
       "      <td>714017104005</td>\n",
       "      <td>Vishnu</td>\n",
       "      <td>681</td>\n",
       "      <td>81</td>\n",
       "      <td>341</td>\n",
       "      <td>62</td>\n",
       "      <td>42</td>\n",
       "      <td>60</td>\n",
       "      <td>15</td>\n",
       "      <td>32</td>\n",
       "      <td>300000</td>\n",
       "    </tr>\n",
       "  </tbody>\n",
       "</table>\n",
       "</div>"
      ],
      "text/plain": [
       "   STUDENT REG_NO STUDENT NAME  QEM_MCQ  EM_MCQ_PER  QH_MCQ  H_MCQ_PER  \\\n",
       "0    714017104001   Ahalya S P      321          75     162         61   \n",
       "1    714017104002       Walley      370          72     180         63   \n",
       "2    714017104003         Eva       461          73     223         67   \n",
       "3    714017104004        Priya      538          82     262         64   \n",
       "4    714017104005       Vishnu      681          81     341         62   \n",
       "\n",
       "   QEM_PS  EM_PS_PER  QH_PS  H_PS_PER  PACKAGE  \n",
       "0      22         63     11        45   300000  \n",
       "1      25         70     12        30   300000  \n",
       "2      30         75     13        35   300000  \n",
       "3      37         80     14        40   300000  \n",
       "4      42         60     15        32   300000  "
      ]
     },
     "execution_count": 1,
     "metadata": {},
     "output_type": "execute_result"
    }
   ],
   "source": [
    "import pandas as pd\n",
    "import numpy as np\n",
    "import matplotlib.pyplot as plt\n",
    "import pickle\n",
    "\n",
    "# dataset = pd.read_json('http://ticket-booking-api.herokuapp.com/tickets/20')\n",
    "dataset = pd.read_csv('./Dataset.csv')\n",
    "dataset.head()"
   ]
  },
  {
   "cell_type": "code",
   "execution_count": 2,
   "metadata": {
    "scrolled": true
   },
   "outputs": [],
   "source": [
    "Y = dataset.iloc[:, -1:].values\n",
    "X = dataset.iloc[:, 2:-1].values\n",
    "from sklearn.model_selection import train_test_split\n",
    "from sklearn.metrics import explained_variance_score\n",
    "X_train,X_test,Y_train,Y_test = train_test_split(X,Y,test_size=0.2,random_state=0)\n",
    "\n",
    "from sklearn.linear_model import LinearRegression\n",
    "regression = LinearRegression()\n",
    "regression.fit(X_train,Y_train)\n",
    "\n",
    "Y_pred = regression.predict(X_test)"
   ]
  },
  {
   "cell_type": "code",
   "execution_count": 3,
   "metadata": {},
   "outputs": [
    {
     "name": "stdout",
     "output_type": "stream",
     "text": [
      "Linear Reggression Accuracy =  0.9669194639542568\n"
     ]
    }
   ],
   "source": [
    "acc = explained_variance_score(Y_test,Y_pred)\n",
    "print(\"Linear Reggression Accuracy = \",acc)"
   ]
  },
  {
   "cell_type": "code",
   "execution_count": 4,
   "metadata": {},
   "outputs": [],
   "source": [
    "pickle.dump(regression, open(\"model.pkl\", \"wb\"))"
   ]
  },
  {
   "cell_type": "code",
   "execution_count": 5,
   "metadata": {},
   "outputs": [
    {
     "name": "stdout",
     "output_type": "stream",
     "text": [
      "[[ 376698.46159009]\n",
      " [ 716819.59115329]\n",
      " [1008694.90867236]]\n"
     ]
    }
   ],
   "source": [
    "model = pickle.load(open(\"model.pkl\",\"rb\"))\n",
    "print(model.predict([[1185,93,479,81,59,55,18,25],[2697,93,1133,88,219,89,60,72],[4689,91,2201,88,441,91,134,75]]))"
   ]
  },
  {
   "cell_type": "code",
   "execution_count": 6,
   "metadata": {},
   "outputs": [
    {
     "name": "stderr",
     "output_type": "stream",
     "text": [
      "<ipython-input-6-50c6af81ba89>:3: DataConversionWarning: A column-vector y was passed when a 1d array was expected. Please change the shape of y to (n_samples, ), for example using ravel().\n",
      "  kneighborClassifier.fit(X_train,Y_train)\n"
     ]
    },
    {
     "data": {
      "text/plain": [
       "KNeighborsClassifier()"
      ]
     },
     "execution_count": 6,
     "metadata": {},
     "output_type": "execute_result"
    }
   ],
   "source": [
    "from sklearn.neighbors import KNeighborsClassifier\n",
    "kneighborClassifier = KNeighborsClassifier(n_neighbors=5)\n",
    "kneighborClassifier.fit(X_train,Y_train)"
   ]
  },
  {
   "cell_type": "code",
   "execution_count": 8,
   "metadata": {},
   "outputs": [],
   "source": [
    "Y_pred_kn = kneighborClassifier.predict(X_test)"
   ]
  },
  {
   "cell_type": "code",
   "execution_count": 9,
   "metadata": {},
   "outputs": [
    {
     "name": "stdout",
     "output_type": "stream",
     "text": [
      "K-nearest Neighbour Accuracy =  0.9594652867615352\n"
     ]
    }
   ],
   "source": [
    "print(\"K-nearest Neighbour Accuracy = \",explained_variance_score(Y_test,Y_pred_kn))"
   ]
  },
  {
   "cell_type": "code",
   "execution_count": 10,
   "metadata": {},
   "outputs": [
    {
     "name": "stderr",
     "output_type": "stream",
     "text": [
      "C:\\Users\\1999b\\anaconda3\\lib\\site-packages\\sklearn\\utils\\validation.py:72: DataConversionWarning: A column-vector y was passed when a 1d array was expected. Please change the shape of y to (n_samples, ), for example using ravel().\n",
      "  return f(**kwargs)\n"
     ]
    },
    {
     "data": {
      "text/plain": [
       "GaussianNB()"
      ]
     },
     "execution_count": 10,
     "metadata": {},
     "output_type": "execute_result"
    }
   ],
   "source": [
    "from sklearn.naive_bayes import GaussianNB  \n",
    "nbClassifier = GaussianNB()\n",
    "nbClassifier.fit(X_train, Y_train)"
   ]
  },
  {
   "cell_type": "code",
   "execution_count": 11,
   "metadata": {},
   "outputs": [],
   "source": [
    "Y_pred_nb = nbClassifier.predict(X_test)"
   ]
  },
  {
   "cell_type": "code",
   "execution_count": 12,
   "metadata": {},
   "outputs": [
    {
     "name": "stdout",
     "output_type": "stream",
     "text": [
      "Naive Bayes Accuracy =  0.9729409228115568\n"
     ]
    }
   ],
   "source": [
    "print(\"Naive Bayes Accuracy = \",explained_variance_score(Y_test,Y_pred_nb))"
   ]
  },
  {
   "cell_type": "code",
   "execution_count": 13,
   "metadata": {},
   "outputs": [
    {
     "name": "stderr",
     "output_type": "stream",
     "text": [
      "C:\\Users\\1999b\\anaconda3\\lib\\site-packages\\sklearn\\utils\\validation.py:72: DataConversionWarning: A column-vector y was passed when a 1d array was expected. Please change the shape of y to (n_samples, ), for example using ravel().\n",
      "  return f(**kwargs)\n",
      "C:\\Users\\1999b\\anaconda3\\lib\\site-packages\\sklearn\\linear_model\\_logistic.py:762: ConvergenceWarning: lbfgs failed to converge (status=1):\n",
      "STOP: TOTAL NO. of ITERATIONS REACHED LIMIT.\n",
      "\n",
      "Increase the number of iterations (max_iter) or scale the data as shown in:\n",
      "    https://scikit-learn.org/stable/modules/preprocessing.html\n",
      "Please also refer to the documentation for alternative solver options:\n",
      "    https://scikit-learn.org/stable/modules/linear_model.html#logistic-regression\n",
      "  n_iter_i = _check_optimize_result(\n"
     ]
    }
   ],
   "source": [
    "from sklearn.linear_model import LogisticRegression\n",
    "logReggClassifier = LogisticRegression(random_state=0).fit(X_train, Y_train)"
   ]
  },
  {
   "cell_type": "code",
   "execution_count": 14,
   "metadata": {},
   "outputs": [],
   "source": [
    "Y_pred_logreg = logReggClassifier.predict(X_test)"
   ]
  },
  {
   "cell_type": "code",
   "execution_count": 15,
   "metadata": {},
   "outputs": [
    {
     "name": "stdout",
     "output_type": "stream",
     "text": [
      "Logisitic Reggression Accuracy =  0.9789780077619664\n"
     ]
    }
   ],
   "source": [
    "print(\"Logisitic Reggression Accuracy = \",explained_variance_score(Y_test,Y_pred_logreg))"
   ]
  },
  {
   "cell_type": "code",
   "execution_count": 16,
   "metadata": {},
   "outputs": [],
   "source": [
    "pickle.dump(logReggClassifier, open(\"model.pkl\", \"wb\"))"
   ]
  },
  {
   "cell_type": "code",
   "execution_count": 17,
   "metadata": {},
   "outputs": [
    {
     "name": "stdout",
     "output_type": "stream",
     "text": [
      "[ 300000  700000 1000000]\n"
     ]
    }
   ],
   "source": [
    "model = pickle.load(open(\"model.pkl\",\"rb\"))\n",
    "print(model.predict([[1185,93,479,81,59,55,18,25],[2697,93,1133,88,219,89,60,72],[4689,91,2201,88,441,91,134,75]]))"
   ]
  },
  {
   "cell_type": "code",
   "execution_count": null,
   "metadata": {},
   "outputs": [],
   "source": []
  },
  {
   "cell_type": "code",
   "execution_count": null,
   "metadata": {},
   "outputs": [],
   "source": []
  }
 ],
 "metadata": {
  "kernelspec": {
   "display_name": "Python 3",
   "language": "python",
   "name": "python3"
  },
  "language_info": {
   "codemirror_mode": {
    "name": "ipython",
    "version": 3
   },
   "file_extension": ".py",
   "mimetype": "text/x-python",
   "name": "python",
   "nbconvert_exporter": "python",
   "pygments_lexer": "ipython3",
   "version": "3.8.5"
  }
 },
 "nbformat": 4,
 "nbformat_minor": 4
}
